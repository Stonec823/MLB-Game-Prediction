{
 "cells": [
  {
   "cell_type": "markdown",
   "metadata": {},
   "source": [
    "This notebook will be testing different classification models and comparing them"
   ]
  },
  {
   "cell_type": "code",
   "execution_count": 73,
   "metadata": {},
   "outputs": [
    {
     "data": {
      "text/html": [
       "<div>\n",
       "<style scoped>\n",
       "    .dataframe tbody tr th:only-of-type {\n",
       "        vertical-align: middle;\n",
       "    }\n",
       "\n",
       "    .dataframe tbody tr th {\n",
       "        vertical-align: top;\n",
       "    }\n",
       "\n",
       "    .dataframe thead th {\n",
       "        text-align: right;\n",
       "    }\n",
       "</style>\n",
       "<table border=\"1\" class=\"dataframe\">\n",
       "  <thead>\n",
       "    <tr style=\"text-align: right;\">\n",
       "      <th></th>\n",
       "      <th>game_pk</th>\n",
       "      <th>at_bat_number</th>\n",
       "      <th>pitch_number</th>\n",
       "      <th>pitch_type</th>\n",
       "      <th>pitch_type_map</th>\n",
       "      <th>is_fastball</th>\n",
       "      <th>balls</th>\n",
       "      <th>strikes</th>\n",
       "      <th>outs_when_up</th>\n",
       "      <th>inning</th>\n",
       "      <th>...</th>\n",
       "      <th>away_score</th>\n",
       "      <th>bat_score</th>\n",
       "      <th>n_thruorder_pitcher</th>\n",
       "      <th>n_priorpa_thisgame_player_at_bat</th>\n",
       "      <th>prev_pitch_1</th>\n",
       "      <th>prev_pitch_2</th>\n",
       "      <th>prev_pitch_3</th>\n",
       "      <th>batter_is_right</th>\n",
       "      <th>pitcher_is_right</th>\n",
       "      <th>inning_top</th>\n",
       "    </tr>\n",
       "  </thead>\n",
       "  <tbody>\n",
       "    <tr>\n",
       "      <th>0</th>\n",
       "      <td>744845</td>\n",
       "      <td>4</td>\n",
       "      <td>1</td>\n",
       "      <td>FF</td>\n",
       "      <td>0</td>\n",
       "      <td>1</td>\n",
       "      <td>0</td>\n",
       "      <td>0</td>\n",
       "      <td>0</td>\n",
       "      <td>1</td>\n",
       "      <td>...</td>\n",
       "      <td>0</td>\n",
       "      <td>0</td>\n",
       "      <td>1</td>\n",
       "      <td>0</td>\n",
       "      <td>NaN</td>\n",
       "      <td>NaN</td>\n",
       "      <td>NaN</td>\n",
       "      <td>0</td>\n",
       "      <td>0</td>\n",
       "      <td>0</td>\n",
       "    </tr>\n",
       "    <tr>\n",
       "      <th>1</th>\n",
       "      <td>744845</td>\n",
       "      <td>4</td>\n",
       "      <td>2</td>\n",
       "      <td>SL</td>\n",
       "      <td>4</td>\n",
       "      <td>0</td>\n",
       "      <td>0</td>\n",
       "      <td>1</td>\n",
       "      <td>0</td>\n",
       "      <td>1</td>\n",
       "      <td>...</td>\n",
       "      <td>0</td>\n",
       "      <td>0</td>\n",
       "      <td>1</td>\n",
       "      <td>0</td>\n",
       "      <td>0.0</td>\n",
       "      <td>NaN</td>\n",
       "      <td>NaN</td>\n",
       "      <td>0</td>\n",
       "      <td>0</td>\n",
       "      <td>0</td>\n",
       "    </tr>\n",
       "    <tr>\n",
       "      <th>2</th>\n",
       "      <td>744845</td>\n",
       "      <td>4</td>\n",
       "      <td>3</td>\n",
       "      <td>SL</td>\n",
       "      <td>4</td>\n",
       "      <td>0</td>\n",
       "      <td>0</td>\n",
       "      <td>2</td>\n",
       "      <td>0</td>\n",
       "      <td>1</td>\n",
       "      <td>...</td>\n",
       "      <td>0</td>\n",
       "      <td>0</td>\n",
       "      <td>1</td>\n",
       "      <td>0</td>\n",
       "      <td>4.0</td>\n",
       "      <td>0.0</td>\n",
       "      <td>NaN</td>\n",
       "      <td>0</td>\n",
       "      <td>0</td>\n",
       "      <td>0</td>\n",
       "    </tr>\n",
       "    <tr>\n",
       "      <th>3</th>\n",
       "      <td>744845</td>\n",
       "      <td>4</td>\n",
       "      <td>4</td>\n",
       "      <td>SI</td>\n",
       "      <td>1</td>\n",
       "      <td>0</td>\n",
       "      <td>1</td>\n",
       "      <td>2</td>\n",
       "      <td>0</td>\n",
       "      <td>1</td>\n",
       "      <td>...</td>\n",
       "      <td>0</td>\n",
       "      <td>0</td>\n",
       "      <td>1</td>\n",
       "      <td>0</td>\n",
       "      <td>4.0</td>\n",
       "      <td>4.0</td>\n",
       "      <td>0.0</td>\n",
       "      <td>0</td>\n",
       "      <td>0</td>\n",
       "      <td>0</td>\n",
       "    </tr>\n",
       "    <tr>\n",
       "      <th>4</th>\n",
       "      <td>744845</td>\n",
       "      <td>4</td>\n",
       "      <td>5</td>\n",
       "      <td>SL</td>\n",
       "      <td>4</td>\n",
       "      <td>0</td>\n",
       "      <td>1</td>\n",
       "      <td>2</td>\n",
       "      <td>0</td>\n",
       "      <td>1</td>\n",
       "      <td>...</td>\n",
       "      <td>0</td>\n",
       "      <td>0</td>\n",
       "      <td>1</td>\n",
       "      <td>0</td>\n",
       "      <td>1.0</td>\n",
       "      <td>4.0</td>\n",
       "      <td>4.0</td>\n",
       "      <td>0</td>\n",
       "      <td>0</td>\n",
       "      <td>0</td>\n",
       "    </tr>\n",
       "  </tbody>\n",
       "</table>\n",
       "<p>5 rows × 21 columns</p>\n",
       "</div>"
      ],
      "text/plain": [
       "   game_pk  at_bat_number  pitch_number pitch_type  pitch_type_map  \\\n",
       "0   744845              4             1         FF               0   \n",
       "1   744845              4             2         SL               4   \n",
       "2   744845              4             3         SL               4   \n",
       "3   744845              4             4         SI               1   \n",
       "4   744845              4             5         SL               4   \n",
       "\n",
       "   is_fastball  balls  strikes  outs_when_up  inning  ...  away_score  \\\n",
       "0            1      0        0             0       1  ...           0   \n",
       "1            0      0        1             0       1  ...           0   \n",
       "2            0      0        2             0       1  ...           0   \n",
       "3            0      1        2             0       1  ...           0   \n",
       "4            0      1        2             0       1  ...           0   \n",
       "\n",
       "   bat_score  n_thruorder_pitcher  n_priorpa_thisgame_player_at_bat  \\\n",
       "0          0                    1                                 0   \n",
       "1          0                    1                                 0   \n",
       "2          0                    1                                 0   \n",
       "3          0                    1                                 0   \n",
       "4          0                    1                                 0   \n",
       "\n",
       "   prev_pitch_1  prev_pitch_2  prev_pitch_3  batter_is_right  \\\n",
       "0           NaN           NaN           NaN                0   \n",
       "1           0.0           NaN           NaN                0   \n",
       "2           4.0           0.0           NaN                0   \n",
       "3           4.0           4.0           0.0                0   \n",
       "4           1.0           4.0           4.0                0   \n",
       "\n",
       "   pitcher_is_right  inning_top  \n",
       "0                 0           0  \n",
       "1                 0           0  \n",
       "2                 0           0  \n",
       "3                 0           0  \n",
       "4                 0           0  \n",
       "\n",
       "[5 rows x 21 columns]"
      ]
     },
     "execution_count": 73,
     "metadata": {},
     "output_type": "execute_result"
    }
   ],
   "source": [
    "\n",
    "import pandas as pd\n",
    "import numpy as np\n",
    "df = pd.read_csv('../data/raw/chris_sale.csv')\n",
    "df.head()"
   ]
  },
  {
   "cell_type": "code",
   "execution_count": 74,
   "metadata": {},
   "outputs": [],
   "source": [
    "\n",
    "cols_to_drop = ['home_score', 'away_score', 'pitch_type', 'game_pk', 'at_bat_number', 'is_fastball']\n",
    "df = df.drop(columns=cols_to_drop, axis=1)\n",
    "df = df.dropna()"
   ]
  },
  {
   "cell_type": "code",
   "execution_count": 75,
   "metadata": {},
   "outputs": [
    {
     "data": {
      "text/plain": [
       "pitch_type_map\n",
       "4    1103\n",
       "0    1015\n",
       "5     410\n",
       "1     201\n",
       "Name: count, dtype: int64"
      ]
     },
     "execution_count": 75,
     "metadata": {},
     "output_type": "execute_result"
    }
   ],
   "source": [
    "df['pitch_type_map'].value_counts()"
   ]
  },
  {
   "cell_type": "code",
   "execution_count": 96,
   "metadata": {},
   "outputs": [],
   "source": [
    "#split into train-test-validate\n",
    "\n",
    "from sklearn.model_selection import train_test_split, cross_val_score\n",
    "\n",
    "# Models\n",
    "from sklearn.ensemble import RandomForestClassifier\n",
    "from sklearn.linear_model import LogisticRegression\n",
    "from sklearn.neighbors import KNeighborsClassifier\n",
    "from xgboost import XGBClassifier\n",
    "\n",
    "# Metrics\n",
    "from sklearn.metrics import (\n",
    "    accuracy_score,\n",
    "    f1_score,\n",
    "    roc_curve,\n",
    "    auc,\n",
    "    confusion_matrix,\n",
    "    classification_report,\n",
    ")\n",
    "\n",
    "# Plotting (for ROC curve and confusion matrix)\n",
    "import matplotlib.pyplot as plt\n",
    "import seaborn as sns\n",
    "\n",
    "X = df.drop(columns=[\"pitch_type_map\"])\n",
    "y = df[\"pitch_type_map\"]\n",
    "\n",
    "#resampling the data due to class imbalance\n",
    "\n",
    "from imblearn.combine import SMOTETomek\n",
    "smote_tomek = SMOTETomek(random_state=42)\n",
    "X_resampled, y_resampled = smote_tomek.fit_resample(X, y)\n",
    "\n",
    "# Train-test split\n",
    "X_train, X_test, y_train, y_test = train_test_split(X_resampled, y_resampled, test_size=0.35, random_state=42)\n",
    "\n",
    "class_mapping = {0: ' Fastball',\n",
    "                1: 'Sinker',\n",
    "                2: 'Cutter',\n",
    "                3: 'Curveball',\n",
    "                4: 'Slider',\n",
    "                5: 'Changeup',\n",
    "                6: 'Knuckle'}\n"
   ]
  },
  {
   "cell_type": "code",
   "execution_count": 95,
   "metadata": {},
   "outputs": [
    {
     "name": "stdout",
     "output_type": "stream",
     "text": [
      "Logistic Regression Accuracy: 0.41678224687933424\n",
      "Logistic Regression F1 Score: 0.3932730785482685\n",
      "Classification Report:\n",
      "              precision    recall  f1-score   support\n",
      "\n",
      "    Fastball       0.38      0.20      0.26       371\n",
      "      Sinker       0.47      0.65      0.55       351\n",
      "      Slider       0.41      0.26      0.32       375\n",
      "    Changeup       0.38      0.59      0.46       345\n",
      "\n",
      "    accuracy                           0.42      1442\n",
      "   macro avg       0.41      0.42      0.40      1442\n",
      "weighted avg       0.41      0.42      0.39      1442\n",
      "\n"
     ]
    },
    {
     "data": {
      "text/plain": [
       "<sklearn.metrics._plot.confusion_matrix.ConfusionMatrixDisplay at 0x28d7ad450>"
      ]
     },
     "execution_count": 95,
     "metadata": {},
     "output_type": "execute_result"
    },
    {
     "data": {
      "image/png": "[encoded data removed]",
      "text/plain": [
       "<Figure size 640x480 with 2 Axes>"
      ]
     },
     "metadata": {},
     "output_type": "display_data"
    }
   ],
   "source": [
    "from sklearn.utils.class_weight import compute_class_weight\n",
    "\n",
    "\n",
    "#Model 1 Multiple logistic regression\n",
    "lr_model = LogisticRegression(random_state=43, max_iter=10000)\n",
    "lr_model.fit(X_train, y_train)\n",
    "lr_predictions = lr_model.predict(X_test)\n",
    "y_pred_prob = lr_model.predict_proba(X_test)[:, 1]\n",
    "# Evaluation\n",
    "print(\"Logistic Regression Accuracy:\", accuracy_score(y_test, lr_predictions))\n",
    "print(\"Logistic Regression F1 Score:\", f1_score(y_test, lr_predictions, average='weighted'))\n",
    "\n",
    "\n",
    "#class_report = classification_report(y_test, lr_predictions, zero_division=0)\n",
    "\n",
    "from sklearn.metrics import classification_report, confusion_matrix, ConfusionMatrixDisplay\n",
    "class_labels = df['pitch_type_map'].unique()\n",
    "\n",
    "# Plotting the detailed confusion matrix\n",
    "# plt.figure(figsize=(8, 6))\n",
    "# sns.heatmap(conf_matrix, annot=True, fmt='d', cmap='Blues', xticklabels=class_labels, yticklabels=class_labels)\n",
    "# plt.xlabel('Predicted Labels')\n",
    "# plt.ylabel('True Labels')\n",
    "# plt.title('Confusion Matrix with Class Labels')\n",
    "# plt.show()\n",
    "\n",
    "print(\"Classification Report:\")\n",
    "print(classification_report(y_test, lr_predictions, target_names=[class_mapping[c] for c in np.unique(y)]))\n",
    "\n",
    "# Generate confusion matrix\n",
    "conf_matrix = confusion_matrix(y_test, lr_predictions)\n",
    "\n",
    "# Convert confusion matrix to a DataFrame with mapped labels\n",
    "# conf_matrix_df = pd.DataFrame(\n",
    "#     conf_matrix, \n",
    "#     index=[class_mapping[c] for c in np.unique(y)], \n",
    "#     columns=[class_mapping[c] for c in np.unique(y)]\n",
    "# )\n",
    "\n",
    "# print(\"\\nConfusion Matrix:\")\n",
    "# print(conf_matrix_df)\n",
    "\n",
    "disp = ConfusionMatrixDisplay(confusion_matrix=conf_matrix, display_labels=[class_mapping[c] for c in np.unique(y)])\n",
    "disp.plot(cmap=\"Blues\", xticks_rotation=45)\n",
    "\n",
    "# Precision, Recall, and F1-score for each class\n",
    "# Weighted metrics to consider class frequencies\n",
    "# Confusion Matrix for deeper insights\n"
   ]
  },
  {
   "cell_type": "code",
   "execution_count": 102,
   "metadata": {},
   "outputs": [
    {
     "name": "stdout",
     "output_type": "stream",
     "text": [
      "Classification Report:\n",
      "              precision    recall  f1-score   support\n",
      "\n",
      "    Fastball       0.40      0.22      0.28       371\n",
      "      Sinker       0.47      0.78      0.59       351\n",
      "      Slider       0.48      0.19      0.28       375\n",
      "    Changeup       0.44      0.65      0.53       345\n",
      "\n",
      "    accuracy                           0.45      1442\n",
      "   macro avg       0.45      0.46      0.42      1442\n",
      "weighted avg       0.45      0.45      0.42      1442\n",
      "\n",
      "KNN F1 Score: 0.41520399050024975\n"
     ]
    },
    {
     "data": {
      "text/plain": [
       "<sklearn.metrics._plot.confusion_matrix.ConfusionMatrixDisplay at 0x28da03350>"
      ]
     },
     "execution_count": 102,
     "metadata": {},
     "output_type": "execute_result"
    },
    {
     "data": {
      "image/png": "[encoded data removed]",
      "text/plain": [
       "<Figure size 640x480 with 2 Axes>"
      ]
     },
     "metadata": {},
     "output_type": "display_data"
    }
   ],
   "source": [
    "#model 2 KNN\n",
    "# highest_acc = 0\n",
    "# highest_f1 = 0\n",
    "# best_k = 0\n",
    "# for i in range(1,30):\n",
    "#     knn_model = KNeighborsClassifier(n_neighbors= i)\n",
    "#     knn_model.fit(X_train, y_train)\n",
    "#     knn_predictions = knn_model.predict(X_test)\n",
    "#     acc =  accuracy_score(y_test, knn_predictions)\n",
    "#     f1 = f1_score(y_test, knn_predictions, average='weighted')\n",
    "#     if acc > highest_acc:\n",
    "#         highest_f1 = f1\n",
    "#         highest_acc = acc\n",
    "#         best_k = i\n",
    "    \n",
    "#     # print(f\"KNN Accuracy for {i}:\", accuracy_score(y_test, knn_predictions))\n",
    "\n",
    "# print('Best K for KNN: ', best_k)\n",
    "# print('KNN Accuracy: ', highest_acc)\n",
    "# print('KNN F1 Score: ', highest_acc)\n",
    "knn_model = KNeighborsClassifier(n_neighbors= 26)\n",
    "knn_model.fit(X_train, y_train)\n",
    "knn_predictions = knn_model.predict(X_test)\n",
    "\n",
    "    \n",
    "conf_matrix_knn = confusion_matrix(y_test, knn_predictions)\n",
    "#class_report = classification_report(y_test, lr_predictions, zero_division=0)\n",
    "\n",
    "\n",
    "\n",
    "print(\"Classification Report:\")\n",
    "print(classification_report(y_test, knn_predictions, target_names=[class_mapping[c] for c in np.unique(y)]))\n",
    "class_labels = df['pitch_type_map'].unique()\n",
    "\n",
    "print(\"KNN F1 Score:\", f1_score(y_test, knn_predictions, average='weighted'))\n",
    "\n",
    "\n",
    "disp = ConfusionMatrixDisplay(confusion_matrix=conf_matrix_knn, display_labels=[class_mapping[c] for c in np.unique(y)])\n",
    "disp.plot(cmap=\"Blues\", xticks_rotation=45)"
   ]
  },
  {
   "cell_type": "code",
   "execution_count": 103,
   "metadata": {},
   "outputs": [
    {
     "name": "stdout",
     "output_type": "stream",
     "text": [
      "Classification Report:\n",
      "              precision    recall  f1-score   support\n",
      "\n",
      "    Fastball       0.53      0.46      0.49       371\n",
      "      Sinker       0.72      0.80      0.76       351\n",
      "      Slider       0.53      0.44      0.48       375\n",
      "    Changeup       0.61      0.75      0.68       345\n",
      "\n",
      "    accuracy                           0.61      1442\n",
      "   macro avg       0.60      0.61      0.60      1442\n",
      "weighted avg       0.60      0.61      0.60      1442\n",
      "\n",
      "Random Forest Accuracy: 0.6054091539528432\n",
      "Random Forest F1 Score: 0.5968672488815031\n"
     ]
    },
    {
     "data": {
      "text/plain": [
       "<sklearn.metrics._plot.confusion_matrix.ConfusionMatrixDisplay at 0x177c4f350>"
      ]
     },
     "execution_count": 103,
     "metadata": {},
     "output_type": "execute_result"
    },
    {
     "data": {
      "image/png": "[encoded data removed]",
      "text/plain": [
       "<Figure size 640x480 with 2 Axes>"
      ]
     },
     "metadata": {},
     "output_type": "display_data"
    }
   ],
   "source": [
    "\n",
    "#Best Hyperparameters: {'bootstrap': True, 'max_depth': None, 'max_features': 'sqrt', 'min_samples_leaf': 1, 'min_samples_split': 2, 'n_estimators': 500}\n",
    "#Model 3 Random Forest\n",
    "from sklearn.ensemble import RandomForestClassifier\n",
    "from sklearn.model_selection import GridSearchCV\n",
    "\n",
    "\n",
    "# rf = RandomForestClassifier()\n",
    "# param_grid = {\n",
    "#     'n_estimators': [100, 200, 500],\n",
    "#     'max_depth': [10, 20, 30, None],\n",
    "#     'min_samples_split': [2, 10, 20],\n",
    "#     'min_samples_leaf': [1, 5, 10],\n",
    "#     'max_features': ['auto', 'sqrt', 'log2'],\n",
    "#     'bootstrap': [True, False]\n",
    "# }\n",
    "\n",
    "\n",
    "# grid_search = GridSearchCV(estimator=rf, param_grid=param_grid, cv=5, n_jobs=-1)\n",
    "\n",
    "# grid_search.fit(X_train, y_train)\n",
    "\n",
    "# print(f\"Best Hyperparameters: {grid_search.best_params_}\")\n",
    "\n",
    "\n",
    "rf_model = RandomForestClassifier(bootstrap=True, max_depth=None, max_features='sqrt', min_samples_leaf=1, min_samples_split=2, n_estimators=500)\n",
    "rf_model.fit(X_train, y_train)\n",
    "rf_predictions = rf_model.predict(X_test)\n",
    "\n",
    "#report\n",
    "print(\"Classification Report:\")\n",
    "print(classification_report(y_test, rf_predictions, target_names=[class_mapping[c] for c in np.unique(y)]))\n",
    "\n",
    "#overall metrics\n",
    "print(\"Random Forest Accuracy:\", accuracy_score(y_test, rf_predictions))\n",
    "print(\"Random Forest F1 Score:\", f1_score(y_test, rf_predictions, average='weighted'))\n",
    "\n",
    "class_labels = df['pitch_type_map'].unique()\n",
    "\n",
    "#confusion matrix\n",
    "conf_matrix_rf = confusion_matrix(y_test, rf_predictions)\n",
    "disp = ConfusionMatrixDisplay(confusion_matrix=conf_matrix_rf, display_labels=[class_mapping[c] for c in np.unique(y)])\n",
    "disp.plot(cmap=\"Blues\", xticks_rotation=45)"
   ]
  },
  {
   "cell_type": "code",
   "execution_count": null,
   "metadata": {},
   "outputs": [
    {
     "name": "stderr",
     "output_type": "stream",
     "text": [
      "/Users/cstone/anaconda3/lib/python3.11/site-packages/xgboost/core.py:158: UserWarning: [10:50:03] WARNING: /Users/runner/work/xgboost/xgboost/src/learner.cc:740: \n",
      "Parameters: { \"use_label_encoder\" } are not used.\n",
      "\n",
      "  warnings.warn(smsg, UserWarning)\n"
     ]
    },
    {
     "name": "stdout",
     "output_type": "stream",
     "text": [
      "XGBoost Accuracy: 0.4098360655737705\n",
      "XGBoost F1 Score: 0.414385587115755\n"
     ]
    }
   ],
   "source": [
    "#Model 4 XGBoost\n",
    "\n",
    "from xgboost import XGBClassifier\n",
    "from sklearn.model_selection import GridSearchCV\n",
    "\n",
    "# Define the model\n",
    "xgb = XGBClassifier()\n",
    "\n",
    "# Define the hyperparameter grid\n",
    "param_grid = {\n",
    "    'n_estimators': [100, 200, 500],\n",
    "    'learning_rate': [0.01, 0.1, 0.3],\n",
    "    'max_depth': [3, 6, 10],\n",
    "    'min_child_weight': [1, 5, 10],\n",
    "    'subsample': [0.5, 0.7, 1.0],\n",
    "    'colsample_bytree': [0.5, 0.7, 1.0],\n",
    "    'gamma': [0, 0.1, 0.2],\n",
    "    'reg_alpha': [0, 0.1, 1],\n",
    "    'reg_lambda': [0, 0.1, 1]\n",
    "}\n",
    "\n",
    "# Set up GridSearchCV\n",
    "grid_search = GridSearchCV(estimator=xgb, param_grid=param_grid, cv=5, n_jobs=-1, verbose=2)\n",
    "\n",
    "# Fit the grid search\n",
    "grid_search.fit(X_train, y_train)\n",
    "\n",
    "xgb_model = XGBClassifier(use_label_encoder=False, eval_metric='logloss', random_state=45)\n",
    "xgb_model.fit(X_train, y_train)\n",
    "xgb_predictions = xgb_model.predict(X_test)\n",
    "\n",
    "print(\"XGBoost Accuracy:\", accuracy_score(y_test, xgb_predictions))\n",
    "print(\"XGBoost F1 Score:\", f1_score(y_test, xgb_predictions, average='weighted'))"
   ]
  },
  {
   "cell_type": "markdown",
   "metadata": {},
   "source": [
    "Validating on some different pitchers"
   ]
  },
  {
   "cell_type": "code",
   "execution_count": 77,
   "metadata": {},
   "outputs": [
    {
     "name": "stdout",
     "output_type": "stream",
     "text": [
      "XGBoost Accuracy: 0.4075757575757576\n",
      "XGBoost F1 Score: 0.36542222858537105\n"
     ]
    }
   ],
   "source": [
    "from sklearn.preprocessing import LabelEncoder\n",
    "\n",
    "df_val = pd.read_csv('/Users/cstone/Documents/Projects/MLB_Pitch_Prediction/data/raw/charlie_morton.csv')\n",
    "\n",
    "\n",
    "cols = ['balls', 'strikes', 'outs_when_up', 'batter_is_right', 'pitcher_is_right', 'n_thruorder_pitcher', 'pitch_type_map']\n",
    "df_val = df_val[cols]\n",
    "\n",
    "Xval = df_val.drop(columns=['pitch_type_map'])\n",
    "yval = df_val['pitch_type_map']\n",
    "\n",
    "\n",
    "\n",
    "Xvaltrain, Xvaltest, yvaltrain, yvaltest = train_test_split(Xval, yval, test_size=0.25, random_state=41)\n",
    "label_encoder = LabelEncoder()\n",
    "yvaltrain_encoded = label_encoder.fit_transform(yvaltrain)\n",
    "# Initialize the XGBClassifier\n",
    "xgb_val_model = XGBClassifier(eval_metric='logloss', random_state=42)\n",
    "\n",
    "# Fit the model\n",
    "xgb_val_model.fit(Xvaltrain, yvaltrain_encoded)\n",
    "\n",
    "# Make predictions\n",
    "xgb_val_predictions = xgb_val_model.predict(Xvaltest)\n",
    "\n",
    "# Evaluate the model\n",
    "print(\"XGBoost Accuracy:\", accuracy_score(yvaltest, xgb_val_predictions))\n",
    "print(\"XGBoost F1 Score:\", f1_score(yvaltest, xgb_val_predictions, average='weighted'))"
   ]
  },
  {
   "cell_type": "code",
   "execution_count": null,
   "metadata": {},
   "outputs": [
    {
     "data": {
      "text/plain": [
       "array([0, 3, 0, 3, 3, 0, 3, 3, 3, 3, 3, 2, 0, 3, 0, 3, 3, 3, 4, 3, 3, 3,\n",
       "       0, 2, 3, 3, 0, 0, 4, 0, 3, 3, 3, 0, 3, 0, 3, 3, 3, 0, 3, 3, 3, 3,\n",
       "       0, 3, 3, 3, 3, 4, 3, 3, 3, 3, 0, 0, 3, 3, 3, 0, 3, 0, 3, 3, 3, 3,\n",
       "       3, 3, 0, 0, 3, 3, 4, 0, 3, 0, 2, 3, 3, 3, 3, 3, 3, 3, 3, 0, 3, 3,\n",
       "       3, 4, 3, 1, 0, 3, 3, 3, 0, 0, 3, 3, 3, 3, 3, 2, 3, 3, 3, 2, 3, 3,\n",
       "       2, 0, 4, 3, 0, 3, 0, 0, 3, 3, 3, 2, 3, 3, 3, 3, 0, 3, 0, 3, 3, 3,\n",
       "       3, 3, 3, 0, 3, 3, 4, 1, 0, 3, 3, 0, 0, 3, 0, 0, 3, 3, 3, 3, 3, 4,\n",
       "       3, 3, 3, 0, 3, 3, 3, 0, 0, 0, 3, 2, 3, 2, 0, 3, 3, 3, 0, 3, 3, 0,\n",
       "       0, 0, 3, 0, 3, 3, 3, 3, 0, 2, 0, 0, 0, 0, 3, 0, 0, 3, 3, 2, 3, 3,\n",
       "       3, 3, 3, 3, 0, 3, 3, 3, 3, 3, 3, 3, 3, 4, 0, 3, 3, 3, 0, 0, 0, 3,\n",
       "       3, 0, 3, 3, 3, 3, 3, 0, 3, 3, 3, 3, 3, 0, 3, 0, 0, 3, 0, 0, 3, 0,\n",
       "       4, 0, 3, 0, 3, 3, 3, 3, 3, 0, 3, 0, 3, 1, 0, 3, 3, 3, 3, 0, 4, 0,\n",
       "       0, 0, 3, 3, 0, 3, 3, 3, 3, 3, 3, 3, 3, 0, 0, 3, 3, 0, 3, 0, 0, 3,\n",
       "       0, 3, 3, 3, 3, 3, 3, 0, 2, 3, 2, 3, 0, 3, 4, 3, 3, 3, 0, 3, 0, 3,\n",
       "       0, 0, 3, 4, 3, 0, 3, 3, 3, 3, 3, 3, 3, 3, 4, 3, 3, 3, 4, 3, 2, 3,\n",
       "       3, 0, 4, 3, 3, 0, 3, 0, 3, 3, 0, 2, 0, 0, 0, 3, 0, 3, 3, 3, 0, 3,\n",
       "       3, 3, 0, 0, 3, 4, 3, 3, 3, 3, 4, 0, 3, 3, 0, 2, 0, 3, 3, 3, 0, 3,\n",
       "       3, 3, 0, 0, 3, 3, 3, 0, 3, 0, 3, 3, 3, 0, 0, 3, 3, 2, 0, 2, 3, 0,\n",
       "       0, 3, 2, 0, 3, 0, 2, 3, 3, 3, 3, 3, 0, 0, 3, 3, 3, 3, 3, 3, 4, 3,\n",
       "       3, 3, 0, 3, 4, 3, 3, 3, 3, 3, 4, 3, 0, 3, 0, 3, 0, 3, 3, 0, 3, 3,\n",
       "       3, 0, 0, 0, 0, 3, 3, 4, 3, 0, 3, 3, 3, 0, 3, 2, 0, 3, 4, 3, 0, 1,\n",
       "       0, 0, 3, 3, 4, 3, 3, 3, 4, 3, 4, 3, 3, 3, 3, 3, 3, 0, 0, 3, 0, 0,\n",
       "       0, 0, 0, 0, 3, 3, 0, 3, 3, 0, 2, 3, 3, 3, 0, 3, 0, 0, 3, 0, 3, 4,\n",
       "       4, 3, 0, 2, 3, 0, 0, 0, 3, 3, 3, 3, 3, 3, 4, 3, 3, 3, 3, 0, 3, 3,\n",
       "       0, 3, 3, 0, 3, 3, 3, 3, 0, 3, 0, 3, 2, 3, 0, 3, 4, 3, 3, 0, 0, 3,\n",
       "       0, 3, 3, 3, 3, 0, 3, 3, 0, 3, 0, 1, 0, 0, 0, 3, 4, 3, 0, 3, 4, 3,\n",
       "       0, 0, 0, 3, 0, 3, 3, 3, 3, 0, 0, 3, 3, 3, 0, 3, 3, 3, 3, 3, 0, 3,\n",
       "       2, 0, 3, 0, 0, 3, 0, 3, 3, 3, 3, 0, 3, 3, 3, 3, 3, 0, 0, 3, 3, 3,\n",
       "       3, 0, 3, 3, 3, 3, 4, 3, 3, 3, 3, 0, 3, 3, 4, 3, 3, 4, 4, 4, 0, 0,\n",
       "       3, 3, 3, 3, 0, 0, 3, 0, 0, 3, 3, 3, 2, 3, 0, 0, 3, 0, 3, 3, 0, 2])"
      ]
     },
     "execution_count": 78,
     "metadata": {},
     "output_type": "execute_result"
    }
   ],
   "source": [
    "#Logistic Regression\n",
    "lr_model = LogisticRegression(random_state=42, max_iter=10000)\n",
    "lr_model.fit(X_train, y_train)\n",
    "lr_predictions = lr_model.predict(X_test)\n",
    "\n",
    "#KNN\n",
    "highest_acc = 0\n",
    "highest_f1 = 0\n",
    "best_k = 0\n",
    "for i in range(1,30):\n",
    "    knn_model = KNeighborsClassifier(n_neighbors= i)\n",
    "    knn_model.fit(X_train, y_train)\n",
    "    knn_predictions = knn_model.predict(X_test)\n",
    "    acc =  accuracy_score(y_test, knn_predictions)\n",
    "    f1 = f1_score(y_test, knn_predictions, average='weighted')\n",
    "    if acc > highest_acc:\n",
    "        highest_f1 = f1\n",
    "        highest_acc = acc\n",
    "        best_k = i\n",
    "\n",
    "\n",
    "#Random Forest\n",
    "rf_model = RandomForestClassifier(n_estimators=10000, random_state=42)\n",
    "rf_model.fit(X_train, y_train)\n",
    "rf_predictions = rf_model.predict(X_test)\n",
    "\n",
    "# Evaluations\n",
    "print(\"Random Forest Accuracy:\", accuracy_score(y_test, rf_predictions))\n",
    "print(\"Random Forest F1 Score:\", f1_score(y_test, rf_predictions, average='weighted'))\n",
    "\n",
    "print(\"Logistic Regression Accuracy:\", accuracy_score(y_test, lr_predictions))\n",
    "print(\"Logistic Regression F1 Score:\", f1_score(y_test, lr_predictions, average='weighted'))\n",
    "\n",
    "print('Best K for KNN: ', best_k)\n",
    "print('KNN Accuracy: ', highest_acc)\n",
    "print('KNN F1 Score: ', highest_acc)\n",
    "\n",
    "print(\"Random Forest Accuracy:\", accuracy_score(y_test, rf_predictions))\n",
    "print(\"Random Forest F1 Score:\", f1_score(y_test, rf_predictions, average='weighted'))\n"
   ]
  },
  {
   "cell_type": "markdown",
   "metadata": {},
   "source": [
    "xgb_val_predictions"
   ]
  },
  {
   "cell_type": "code",
   "execution_count": 59,
   "metadata": {},
   "outputs": [
    {
     "name": "stdout",
     "output_type": "stream",
     "text": [
      "Training classes: [0 1 2 3 5]\n",
      "Training classes: [0 1 2 3 4]\n",
      "Testing classes: [0 1 2 3 5]\n"
     ]
    }
   ],
   "source": [
    "print(\"Training classes:\", np.unique(yvaltrain))\n",
    "print(\"Training classes:\", np.unique(yvaltrain_encoded))\n",
    "\n",
    "print(\"Testing classes:\", np.unique(yvaltest))"
   ]
  },
  {
   "cell_type": "code",
   "execution_count": null,
   "metadata": {},
   "outputs": [],
   "source": [
    "# Accuracy\n",
    "\n",
    "# F1-Score\n",
    "\n",
    "# Confusion Matrice\n",
    "\n",
    "# ROC Cruve"
   ]
  }
 ],
 "metadata": {
  "kernelspec": {
   "display_name": "base",
   "language": "python",
   "name": "python3"
  },
  "language_info": {
   "codemirror_mode": {
    "name": "ipython",
    "version": 3
   },
   "file_extension": ".py",
   "mimetype": "text/x-python",
   "name": "python",
   "nbconvert_exporter": "python",
   "pygments_lexer": "ipython3",
   "version": "3.11.5"
  }
 },
 "nbformat": 4,
 "nbformat_minor": 2
}
